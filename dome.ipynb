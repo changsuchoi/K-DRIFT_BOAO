{
 "cells": [
  {
   "cell_type": "code",
   "execution_count": 59,
   "metadata": {},
   "outputs": [],
   "source": [
    "import serial\n",
    "from threading import Thread, Lock\n",
    "import time\n"
   ]
  },
  {
   "attachments": {},
   "cell_type": "markdown",
   "metadata": {},
   "source": [
    "먼저 RS232드라이버를 설치하고 선을 연결한 후 port를 검색해야함\n",
    "window 11, rs232-usb converter를 활용해 테스트 하였음\n",
    "2023.05.16 현재 남쪽 돔은 케이블 연결이 되어 있으나 북쪽은 아직 되어 있지 않음\n",
    "윤요라 선생님의 컨트롤러 제어 프로토콜을 따름\n",
    "메인 파워는 ON, 두 돔 스위치는 중립으로 놓기"
   ]
  },
  {
   "cell_type": "code",
   "execution_count": 60,
   "metadata": {},
   "outputs": [
    {
     "name": "stdout",
     "output_type": "stream",
     "text": [
      "COM4 - 표준 Bluetooth에서 직렬 링크(COM4)\n",
      "COM5 - 표준 Bluetooth에서 직렬 링크(COM5)\n",
      "COM3 - Intel(R) Active Management Technology - SOL(COM3)\n",
      "COM6 - Prolific USB-to-Serial Comm Port(COM6)\n"
     ]
    }
   ],
   "source": [
    "import serial.tools.list_ports as port_list\n",
    "ports = list(port_list.comports())\n",
    "for p in ports: print (p)"
   ]
  },
  {
   "cell_type": "code",
   "execution_count": 61,
   "metadata": {},
   "outputs": [],
   "source": [
    "port='COM6'\n",
    "baud=19200 #(통신속도)\n",
    "bitnum=8\n",
    "parity = 'NONE'\n",
    "stop_bit=1\n",
    "new_line='\\r'\n"
   ]
  },
  {
   "cell_type": "code",
   "execution_count": 77,
   "metadata": {},
   "outputs": [],
   "source": [
    "ser = serial.Serial(\n",
    "    port = 'COM6', \n",
    "    baudrate=baud, \n",
    "    parity='N',\n",
    "    stopbits=1,\n",
    "    bytesize=bitnum,\n",
    "    timeout=1\n",
    "    )"
   ]
  },
  {
   "cell_type": "code",
   "execution_count": 78,
   "metadata": {},
   "outputs": [
    {
     "data": {
      "text/plain": [
       "True"
      ]
     },
     "execution_count": 78,
     "metadata": {},
     "output_type": "execute_result"
    }
   ],
   "source": [
    "# 포트접속, 열려있는지 확인\n",
    "ser.isOpen()\n",
    "\n",
    "#print(ser.name)"
   ]
  },
  {
   "cell_type": "code",
   "execution_count": 86,
   "metadata": {},
   "outputs": [
    {
     "name": "stdout",
     "output_type": "stream",
     "text": [
      "b'status\\r'\n",
      "status-ok 1  0  1  0\n"
     ]
    }
   ],
   "source": [
    "# 명령어 실행 예제\n",
    "command='status\\r'\n",
    "en_command=str.encode(command)\n",
    "print(en_command)\n",
    "ser.write(en_command)\n",
    "\n",
    "if ser.readable():\n",
    "    res=ser.readline()\n",
    "\n",
    "    print(res[:len(res)-1].decode())"
   ]
  },
  {
   "cell_type": "code",
   "execution_count": 57,
   "metadata": {},
   "outputs": [],
   "source": [
    "command01='status\\r'\n",
    "command02='domeopen-all\\r'\n",
    "command03='domeclose-all\\r'\n",
    "command04='domeopen-south\\r'\n",
    "command05='domeopen-north\\r'\n",
    "command06='domeclose-south\\r'\n",
    "command07='domeclose-north\\r'\n",
    "command08='domestop\\r'\n",
    "command09='light-on\\r'\n",
    "command10='light-off\\r'\n",
    "command11='led-on\\r'\n",
    "command12='led-off\\r'\n"
   ]
  },
  {
   "cell_type": "code",
   "execution_count": 65,
   "metadata": {},
   "outputs": [],
   "source": [
    "def run_command(command):\n",
    "    res=ser.readline()\n",
    "    print(res[:len(res)-1].decode())\n",
    "    en_command=str.encode(command)\n",
    "    print(en_command,'\\n')\n",
    "    ser.write(en_command)\n",
    "    print( 'executing command ...', command, '\\n')\n",
    "    #time.sleep(1)\n",
    "\n",
    "    if ser.readable():\n",
    "        res=ser.readline()\n",
    "        print(res[:len(res)-1].decode())\n",
    "        print('Job is done.')"
   ]
  },
  {
   "cell_type": "code",
   "execution_count": 111,
   "metadata": {},
   "outputs": [
    {
     "name": "stdout",
     "output_type": "stream",
     "text": [
      "\n",
      "\n",
      "b'domeopen-all\\r' \n",
      "\n",
      " xecuting command ... domeopen-all\n",
      "\n",
      "domeopen-all-ok\n",
      "Job is done.\n"
     ]
    }
   ],
   "source": [
    "res=ser.readline()\n",
    "print(res[:len(res)-1].decode())\n",
    "run_command(command02)"
   ]
  },
  {
   "cell_type": "code",
   "execution_count": 115,
   "metadata": {},
   "outputs": [
    {
     "name": "stdout",
     "output_type": "stream",
     "text": [
      "b'status\\r'\n",
      "status-ok 1  0  1  0\n"
     ]
    }
   ],
   "source": [
    "command='status\\r'\n",
    "en_command=str.encode(command)\n",
    "print(en_command)\n",
    "ser.write(en_command)\n",
    "if ser.readable():\n",
    "    res=ser.readline()\n",
    "\n",
    "    print(res[:len(res)-1].decode())\n",
    "\n",
    "    \n",
    "ser.close()"
   ]
  },
  {
   "attachments": {},
   "cell_type": "markdown",
   "metadata": {},
   "source": [
    "명령어 전부 테스트 완료, LED 작동은 확인 불가"
   ]
  },
  {
   "cell_type": "markdown",
   "metadata": {},
   "source": []
  }
 ],
 "metadata": {
  "kernelspec": {
   "display_name": "base",
   "language": "python",
   "name": "python3"
  },
  "language_info": {
   "codemirror_mode": {
    "name": "ipython",
    "version": 3
   },
   "file_extension": ".py",
   "mimetype": "text/x-python",
   "name": "python",
   "nbconvert_exporter": "python",
   "pygments_lexer": "ipython3",
   "version": "3.9.12"
  },
  "orig_nbformat": 4
 },
 "nbformat": 4,
 "nbformat_minor": 2
}
